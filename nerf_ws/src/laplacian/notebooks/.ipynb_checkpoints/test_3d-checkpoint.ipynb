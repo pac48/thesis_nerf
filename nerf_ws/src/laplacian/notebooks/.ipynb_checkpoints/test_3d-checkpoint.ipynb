{
 "cells": [
  {
   "cell_type": "code",
   "execution_count": 1,
   "id": "aef54103",
   "metadata": {},
   "outputs": [],
   "source": [
    "import time\n",
    "import matplotlib.pyplot as plt\n",
    "import torch\n",
    "import numpy as np\n",
    "from laplacian_py import laplacian_solver\n",
    "\n",
    "res = 30\n",
    "max_val = res//3\n",
    "cost_scale = .005\n",
    "\n",
    "values = .99*max_val*torch.ones((res, res, res),dtype=torch.float32, device='cuda')\n",
    "cost = cost_scale*torch.ones((res,res, res),dtype=torch.float32, device='cuda')\n",
    "boundary_conditions = torch.zeros((res,res, res),dtype=torch.float32, device='cuda')\n",
    "boundary_types = torch.zeros((res,res, res),dtype=torch.float32, device='cuda')\n",
    "# goal\n",
    "goal_ind1 = int(res*1/30)\n",
    "goal_ind2 = int(res*1/30)\n",
    "goal_ind3 = int(res*1/30)\n",
    "boundary_conditions[goal_ind1, goal_ind2, goal_ind3] = 0.0\n",
    "boundary_types[goal_ind1, goal_ind2, goal_ind3] = 1.0\n"
   ]
  },
  {
   "cell_type": "code",
   "execution_count": 2,
   "id": "b5d61387",
   "metadata": {},
   "outputs": [
    {
     "name": "stdout",
     "output_type": "stream",
     "text": [
      "tensor([-931,  -31,  869, -901,   -1,  899, -871,   29,  929, -930,  -30,  870,\n",
      "        -900,  900, -870,   30,  930, -929,  -29,  871, -899,    1,  901, -869,\n",
      "          31,  931], device='cuda:0', dtype=torch.int32)\n",
      "torch.Size([30, 30, 30])\n",
      "3\n"
     ]
    }
   ],
   "source": [
    "import torch.nn as nn\n",
    "import torch.utils.data\n",
    "import torch.nn.functional as F\n",
    "import torch.optim as optim\n",
    "from laplacian_py.network import LaplaceNet, compute_loss\n",
    "    \n",
    "network = LaplaceNet((res, res, res), max_val, 1*cost_scale, 0)\n",
    "network.cuda(device='cuda')\n",
    "V_in = values.clone()\n",
    "\n",
    "print(network.indexes)\n",
    "print(network.C.shape)\n",
    "print(network.num_dims)"
   ]
  },
  {
   "cell_type": "code",
   "execution_count": 3,
   "id": "009c0ffd",
   "metadata": {},
   "outputs": [
    {
     "name": "stdout",
     "output_type": "stream",
     "text": [
      "tensor(45.7913, device='cuda:0', grad_fn=<DivBackward0>)\n",
      "tensor(53.8019, device='cuda:0', grad_fn=<AddBackward0>)\n",
      "tensor(47.2558, device='cuda:0', grad_fn=<AddBackward0>)\n",
      "tensor(45.1868, device='cuda:0', grad_fn=<AddBackward0>)\n",
      "tensor(44.1273, device='cuda:0', grad_fn=<AddBackward0>)\n",
      "tensor(43.4996, device='cuda:0', grad_fn=<AddBackward0>)\n",
      "tensor(43.0906, device='cuda:0', grad_fn=<AddBackward0>)\n",
      "tensor(42.8109, device='cuda:0', grad_fn=<AddBackward0>)\n",
      "tensor(42.6185, device='cuda:0', grad_fn=<AddBackward0>)\n",
      "tensor(42.4700, device='cuda:0', grad_fn=<AddBackward0>)\n",
      "tensor(42.3646, device='cuda:0', grad_fn=<AddBackward0>)\n",
      "tensor(42.2786, device='cuda:0', grad_fn=<AddBackward0>)\n",
      "tensor(42.2138, device='cuda:0', grad_fn=<AddBackward0>)\n",
      "tensor(42.1640, device='cuda:0', grad_fn=<AddBackward0>)\n",
      "tensor(42.1241, device='cuda:0', grad_fn=<AddBackward0>)\n"
     ]
    }
   ],
   "source": [
    "lr = 1e-3 # norm\n",
    "# lr = 1e-4 # abs\n",
    "\n",
    "momentum = 0.99\n",
    "\n",
    "XYZ = [np.linspace(0, 1, res, dtype=np.float32) for _ in range(3)]\n",
    "X, Y, Z = np.meshgrid(*XYZ)\n",
    "target = torch.tensor(20*Y + 0,dtype=torch.float32, device='cuda')\n",
    "# target = torch.tensor(20*X + 0,dtype=torch.float32, device='cuda')\n",
    "# target = torch.tensor(12*(X**2+Y**2+Z**2) + 0,dtype=torch.float32, device='cuda')\n",
    "# target = torch.tensor(15 + 0*X,dtype=torch.float32, device='cuda')\n",
    "# target = torch.tensor(10*Y + 10*(1-X), dtype=torch.float32, device='cuda')\n",
    "# target = torch.tensor(10*(1-Y) + 10*X, dtype=torch.float32, device='cuda')\n",
    "\n",
    "optimizer = optim.SGD(network.parameters(), lr=lr, momentum=momentum)\n",
    "\n",
    "for it in range(0, 3000):\n",
    "    optimizer.zero_grad()\n",
    "    pred, C_pos = network(V_in, boundary_types, boundary_conditions)\n",
    "    V_in = pred.detach()\n",
    "    loss_train = compute_loss(pred=pred, target=target, C_pos=C_pos, cost_scale=cost_scale)\n",
    "    if it % 200 == 0:\n",
    "        print(loss_train)\n",
    "    loss_train.backward()\n",
    "    optimizer.step()\n",
    "    \n",
    "\n"
   ]
  },
  {
   "cell_type": "code",
   "execution_count": 4,
   "id": "356aba8a",
   "metadata": {},
   "outputs": [],
   "source": [
    "boundary_types_2 = boundary_types.clone()\n",
    "boundary_conditions_2 = boundary_conditions.clone()\n",
    "\n",
    "\n",
    "# obj1_ind1 = int(res*18/30)\n",
    "# obj1_ind2 = int(res*2/3)\n",
    "# obj1_ind3 = int(res*0)\n",
    "# obj1_ind4 = int(res*2/3)\n",
    "# boundary_conditions_2[obj1_ind1:obj1_ind2, obj1_ind3:obj1_ind4] = max_val*10\n",
    "# boundary_types_2[obj1_ind1:obj1_ind2, obj1_ind3:obj1_ind4] = 1.0\n",
    "\n",
    "# obj2_ind1 = int(res*3/12)\n",
    "# obj2_ind2 = int(res*4/12)\n",
    "# obj2_ind3 = int(res*1/3)\n",
    "# obj2_ind4 = int(res*28/30)\n",
    "# boundary_conditions_2[obj2_ind1:obj2_ind2, obj2_ind3:obj2_ind4] = max_val*10\n",
    "# boundary_types_2[obj2_ind1:obj2_ind2, obj2_ind3:obj2_ind4] = 1.0\n",
    "\n",
    "\n",
    "# obj1_ind1 = int(res*1/3)\n",
    "# obj1_ind2 = int(res*2/3)\n",
    "# obj1_ind3 = int(res*1/3)\n",
    "# obj1_ind4 = int(res*2/3)\n",
    "# boundary_conditions_2[obj1_ind1:obj1_ind2, obj1_ind3:obj1_ind4] = max_val*10\n",
    "# boundary_types_2[obj1_ind1:obj1_ind2, obj1_ind3:obj1_ind4] = 1.0\n",
    "\n",
    "\n",
    "# tmp_inds = boundary_types_2 > 0\n",
    "# tmp_inds = tmp_inds*(torch.rand(tmp_inds.shape,dtype=torch.float32, device='cuda')>.03)\n",
    "# boundary_types_2[tmp_inds] = 0\n",
    "# boundary_conditions_2[tmp_inds] = 0\n",
    "# boundary_conditions_2[goal_ind1, goal_ind2] = 0.0\n",
    "# boundary_types_2[goal_ind1, goal_ind2] = 1.0\n",
    "\n",
    "\n",
    "for i in range(1000):\n",
    "    pred, C_pos = network(V_in, boundary_types_2, boundary_conditions_2)\n",
    "    V_in = pred.detach()\n",
    "\n",
    "    \n",
    "pred[pred>max_val] = max_val\n",
    "\n",
    "\n",
    "\n"
   ]
  },
  {
   "cell_type": "code",
   "execution_count": 5,
   "id": "b74997e9",
   "metadata": {},
   "outputs": [],
   "source": [
    "import matplotlib.pyplot as plt\n",
    "import numpy as np\n",
    "\n",
    "%matplotlib inline\n",
    "import matplotlib\n",
    "matplotlib.use('TkAgg')\n",
    "\n",
    "z = pred.cpu().detach().numpy()[1:-1, 1:-1, 1:-1]\n",
    "X = np.linspace(-15, 15, z.shape[0])\n",
    "Y = np.linspace(-15, 15, z.shape[1])\n",
    "Z = np.linspace(-15, 15, z.shape[2])\n",
    "X, Y, Z = np.meshgrid(X, Y, Z)\n",
    "\n",
    "\n",
    "# ax = plt.figure().add_subplot(projection='3d')\n",
    "ax = plt.figure(figsize=(20, 20)).add_subplot(projection='3d')\n",
    "\n",
    "Up = -np.diff(z[1:-2, 2:-2, 2:-2], axis=0)\n",
    "Vp = -np.diff(z[2:-2, 1:-2, 2:-2], axis=1)\n",
    "Wp = -np.diff(z[2:-2, 2:-2, 1:-2], axis=2)\n",
    "\n",
    "ax.quiver(X[2:-2, 2:-2, 2:-2], Y[2:-2,2:-2,2:-2], Z[2:-2,2:-2,2:-2], Vp, Up, Wp, length=0.5, normalize=True)\n",
    "\n",
    "ax.view_init(30, 30, 0)\n",
    "# f = plt.figure(figsize=(20, 20))\n",
    "plt.show()\n",
    "plt.pause(0)"
   ]
  },
  {
   "cell_type": "code",
   "execution_count": 6,
   "id": "c8f801fd",
   "metadata": {},
   "outputs": [
    {
     "data": {
      "text/plain": [
       "(28, 28, 28)"
      ]
     },
     "execution_count": 6,
     "metadata": {},
     "output_type": "execute_result"
    }
   ],
   "source": [
    "z.shape"
   ]
  },
  {
   "cell_type": "code",
   "execution_count": null,
   "id": "603c943b",
   "metadata": {},
   "outputs": [],
   "source": []
  },
  {
   "cell_type": "code",
   "execution_count": null,
   "id": "648432df",
   "metadata": {},
   "outputs": [],
   "source": []
  },
  {
   "cell_type": "code",
   "execution_count": null,
   "id": "44f195ce",
   "metadata": {},
   "outputs": [],
   "source": []
  },
  {
   "cell_type": "code",
   "execution_count": null,
   "id": "283b8465",
   "metadata": {},
   "outputs": [],
   "source": []
  },
  {
   "cell_type": "code",
   "execution_count": null,
   "id": "cac02a35",
   "metadata": {},
   "outputs": [],
   "source": []
  },
  {
   "cell_type": "code",
   "execution_count": null,
   "id": "099256b2",
   "metadata": {},
   "outputs": [],
   "source": []
  },
  {
   "cell_type": "code",
   "execution_count": null,
   "id": "5736f246",
   "metadata": {},
   "outputs": [],
   "source": []
  }
 ],
 "metadata": {
  "kernelspec": {
   "display_name": "thesis_nerf",
   "language": "python",
   "name": "thesis_nerf"
  },
  "language_info": {
   "codemirror_mode": {
    "name": "ipython",
    "version": 3
   },
   "file_extension": ".py",
   "mimetype": "text/x-python",
   "name": "python",
   "nbconvert_exporter": "python",
   "pygments_lexer": "ipython3",
   "version": "3.10.12"
  }
 },
 "nbformat": 4,
 "nbformat_minor": 5
}
